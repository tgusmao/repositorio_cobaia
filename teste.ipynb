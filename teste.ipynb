{
  "nbformat": 4,
  "nbformat_minor": 0,
  "metadata": {
    "colab": {
      "name": "teste.ipynb",
      "provenance": [],
      "authorship_tag": "ABX9TyPLdHIs/fXfvkZ6RrFNJNMl",
      "include_colab_link": true
    },
    "kernelspec": {
      "name": "python3",
      "display_name": "Python 3"
    }
  },
  "cells": [
    {
      "cell_type": "markdown",
      "metadata": {
        "id": "view-in-github",
        "colab_type": "text"
      },
      "source": [
        "<a href=\"https://colab.research.google.com/github/tgusmao/repositorio_cobaia/blob/master/teste.ipynb\" target=\"_parent\"><img src=\"https://colab.research.google.com/assets/colab-badge.svg\" alt=\"Open In Colab\"/></a>"
      ]
    },
    {
      "cell_type": "code",
      "metadata": {
        "id": "Xu430E4N6lt6",
        "colab_type": "code",
        "colab": {}
      },
      "source": [
        "Trabalho Prático da disciplina de Programação para Ciências de Dados. "
      ],
      "execution_count": null,
      "outputs": []
    },
    {
      "cell_type": "markdown",
      "metadata": {
        "id": "73JePYCe7wWj",
        "colab_type": "text"
      },
      "source": [
        "Teste. "
      ]
    }
  ]
}